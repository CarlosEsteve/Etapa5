{
 "cells": [
  {
   "cell_type": "markdown",
   "metadata": {},
   "source": [
    "# Ejecutar pipelines"
   ]
  },
  {
   "cell_type": "code",
   "execution_count": 1,
   "metadata": {},
   "outputs": [
    {
     "name": "stdout",
     "output_type": "stream",
     "text": [
      "Name: azure-ai-ml\n",
      "Version: 1.27.0\n",
      "Summary: Microsoft Azure Machine Learning Client Library for Python\n",
      "Home-page: https://github.com/Azure/azure-sdk-for-python\n",
      "Author: Microsoft Corporation\n",
      "Author-email: azuresdkengsysadmins@microsoft.com\n",
      "License: MIT License\n",
      "Location: /anaconda/envs/azureml_py38/lib/python3.10/site-packages\n",
      "Requires: azure-common, azure-core, azure-mgmt-core, azure-monitor-opentelemetry, azure-storage-blob, azure-storage-file-datalake, azure-storage-file-share, colorama, isodate, jsonschema, marshmallow, msrest, pydash, pyjwt, pyyaml, six, strictyaml, tqdm, typing-extensions\n",
      "Required-by: \n",
      "Note: you may need to restart the kernel to use updated packages.\n"
     ]
    }
   ],
   "source": [
    "pip show azure-ai-ml"
   ]
  },
  {
   "cell_type": "markdown",
   "metadata": {},
   "source": [
    "## Conectar a workspace"
   ]
  },
  {
   "cell_type": "code",
   "execution_count": 1,
   "metadata": {},
   "outputs": [
    {
     "name": "stderr",
     "output_type": "stream",
     "text": [
      "Found the config file in: /mnt/batch/tasks/shared/LS_root/mounts/clusters/carlos-esteve/code/Users/cesteves.netmind/azure-machine-learning/3.Despliegue_Modelos/config.json\n"
     ]
    },
    {
     "name": "stdout",
     "output_type": "stream",
     "text": [
      "Conectado al Workspace: naturgyml\n"
     ]
    }
   ],
   "source": [
    "# conectar\n",
    "from azure.ai.ml import MLClient\n",
    "from azure.identity import DefaultAzureCredential\n",
    "\n",
    "ml_client = MLClient.from_config(credential=DefaultAzureCredential())\n",
    "\n",
    "print(f\"Conectado al Workspace: {ml_client.workspace_name}\")"
   ]
  },
  {
   "cell_type": "markdown",
   "metadata": {},
   "source": [
    "## Cargar los componentes"
   ]
  },
  {
   "cell_type": "code",
   "execution_count": 12,
   "metadata": {},
   "outputs": [],
   "source": [
    "from azure.ai.ml import load_component\n",
    "\n",
    "ing_prep_data = ml_client.components.get(name=\"ing_prep_data_housing_ces\", version=2)\n",
    "train_model_housing = ml_client.components.get(name=\"train_rf_model_housing\", version=2)\n",
    "eval_model_housing = ml_client.components.get(name=\"eval_model_metrics\", version=2)\n",
    "register_model_housing = ml_client.components.get(name=\"register_conditional_model\", version=17)"
   ]
  },
  {
   "cell_type": "markdown",
   "metadata": {},
   "source": [
    "## Build del pipeline"
   ]
  },
  {
   "cell_type": "code",
   "execution_count": 13,
   "metadata": {},
   "outputs": [],
   "source": [
    "from azure.ai.ml import Input\n",
    "from azure.ai.ml.constants import AssetTypes\n",
    "from azure.ai.ml.dsl import pipeline\n",
    "\n",
    "\n",
    "@pipeline(name=\"house_pricing_pipeline\", description=\"Pipeline to train a house pricing model\")\n",
    "def house_pricing(input_data, n_estimators):\n",
    "    clean_data = ing_prep_data(input_data=input_data)\n",
    "    train_model = train_model_housing(input_data=clean_data.outputs.output_data, n_estimators=n_estimators)\n",
    "    eval_model = eval_model_housing(input_data=train_model.outputs.output_data, model_input=train_model.outputs.model_output)\n",
    "    register_model = register_model_housing(model_input=train_model.outputs.model_output, metrics_input=eval_model.outputs.metrics_output, model_name=\"hous_pricing_rf_model\")\n",
    "\n",
    "    return {\n",
    "        \"pipeline_job_transformed_data\": clean_data.outputs.output_data,\n",
    "        \"pipeline_job_trained_model\": train_model.outputs.model_output,\n",
    "        \"pipeline_job_output_data\": train_model.outputs.output_data,\n",
    "        \"pipeline_job_metrics_data\": eval_model.outputs.metrics_output,\n",
    "    }"
   ]
  },
  {
   "cell_type": "code",
   "execution_count": 14,
   "metadata": {},
   "outputs": [],
   "source": [
    "# definir job de pipeline\n",
    "pipeline_job = house_pricing(Input(type=AssetTypes.URI_FILE, path=\"azureml:houses:1\"), n_estimators=100)\n",
    "\n",
    "# change the output mode\n",
    "pipeline_job.outputs.pipeline_job_transformed_data.mode = \"upload\"\n",
    "pipeline_job.outputs.pipeline_job_trained_model.mode = \"upload\"\n",
    "\n",
    "# set pipeline level compute\n",
    "pipeline_job.settings.default_compute = \"Carlos-Esteve\"\n",
    "\n",
    "# set pipeline level datastore\n",
    "pipeline_job.settings.default_datastore = \"training_data_ces\"\n",
    "pipeline_job.settings.force_rerun = False"
   ]
  },
  {
   "cell_type": "code",
   "execution_count": 15,
   "metadata": {},
   "outputs": [
    {
     "name": "stdout",
     "output_type": "stream",
     "text": [
      "display_name: house_pricing_pipeline\n",
      "description: Pipeline to train a house pricing model\n",
      "type: pipeline\n",
      "inputs:\n",
      "  input_data:\n",
      "    type: uri_file\n",
      "    path: azureml:houses:1\n",
      "  n_estimators: 100\n",
      "outputs:\n",
      "  pipeline_job_transformed_data:\n",
      "    mode: upload\n",
      "    type: uri_folder\n",
      "  pipeline_job_trained_model:\n",
      "    mode: upload\n",
      "    type: mlflow_model\n",
      "  pipeline_job_output_data:\n",
      "    type: uri_folder\n",
      "  pipeline_job_metrics_data:\n",
      "    type: uri_file\n",
      "jobs:\n",
      "  clean_data:\n",
      "    type: command\n",
      "    inputs:\n",
      "      input_data:\n",
      "        path: ${{parent.inputs.input_data}}\n",
      "    outputs:\n",
      "      output_data: ${{parent.outputs.pipeline_job_transformed_data}}\n",
      "    resources:\n",
      "      instance_count: 1\n",
      "    component:\n",
      "      $schema: https://azuremlschemas.azureedge.net/latest/commandComponent.schema.json\n",
      "      name: ing_prep_data_housing_ces\n",
      "      version: '2'\n",
      "      display_name: Ingesta y Preprocesamiento de Datos Housing\n",
      "      type: command\n",
      "      inputs:\n",
      "        input_data:\n",
      "          type: uri_file\n",
      "          optional: false\n",
      "      outputs:\n",
      "        output_data:\n",
      "          type: uri_folder\n",
      "      command: python ing-prep-data.py --input_data ${{inputs.input_data}} --output_data\n",
      "        ${{outputs.output_data}}\n",
      "      environment: azureml://registries/azureml/environments/AzureML-sklearn-0.24-ubuntu18.04-py37-cpu/versions/49\n",
      "      code: azureml:/subscriptions/7decb7a4-f615-4cc3-9d7d-5de10998373f/resourceGroups/naturgy/providers/Microsoft.MachineLearningServices/workspaces/naturgyml/codes/b4c34b9f-7749-439e-9006-ef894270944e/versions/1\n",
      "      resources:\n",
      "        instance_count: 1\n",
      "      creation_context:\n",
      "        created_at: '2025-05-22T08:14:03.449893+00:00'\n",
      "        created_by: Carlos Esteve\n",
      "        created_by_type: User\n",
      "        last_modified_at: '2025-05-22T08:14:03.514816+00:00'\n",
      "        last_modified_by: Carlos Esteve\n",
      "        last_modified_by_type: User\n",
      "      id: /subscriptions/7decb7a4-f615-4cc3-9d7d-5de10998373f/resourceGroups/naturgy/providers/Microsoft.MachineLearningServices/workspaces/naturgyml/components/ing_prep_data_housing_ces/versions/2\n",
      "      is_deterministic: true\n",
      "  train_model:\n",
      "    type: command\n",
      "    inputs:\n",
      "      input_data:\n",
      "        path: ${{parent.jobs.clean_data.outputs.output_data}}\n",
      "      n_estimators:\n",
      "        path: ${{parent.inputs.n_estimators}}\n",
      "    outputs:\n",
      "      model_output: ${{parent.outputs.pipeline_job_trained_model}}\n",
      "      output_data: ${{parent.outputs.pipeline_job_output_data}}\n",
      "    resources:\n",
      "      instance_count: 1\n",
      "    component:\n",
      "      $schema: https://azuremlschemas.azureedge.net/latest/commandComponent.schema.json\n",
      "      name: train_rf_model_housing\n",
      "      version: '2'\n",
      "      display_name: Entrenamiento de Modelo Random Forest\n",
      "      type: command\n",
      "      inputs:\n",
      "        input_data:\n",
      "          type: uri_folder\n",
      "          optional: false\n",
      "        n_estimators:\n",
      "          type: number\n",
      "          optional: false\n",
      "          default: '100.0'\n",
      "      outputs:\n",
      "        model_output:\n",
      "          type: mlflow_model\n",
      "        output_data:\n",
      "          type: uri_folder\n",
      "      command: python train-rf-model.py --input_data ${{inputs.input_data}} --n_estimators\n",
      "        ${{inputs.n_estimators}} --model_output ${{outputs.model_output}} --output_data\n",
      "        ${{outputs.output_data}}\n",
      "      environment: azureml://registries/azureml/environments/AzureML-sklearn-0.24-ubuntu18.04-py37-cpu/versions/49\n",
      "      code: azureml:/subscriptions/7decb7a4-f615-4cc3-9d7d-5de10998373f/resourceGroups/naturgy/providers/Microsoft.MachineLearningServices/workspaces/naturgyml/codes/abc07b8b-c14b-49d0-bc7e-5ce5dc927780/versions/1\n",
      "      resources:\n",
      "        instance_count: 1\n",
      "      creation_context:\n",
      "        created_at: '2025-05-27T19:37:20.281253+00:00'\n",
      "        created_by: Carlos Esteve\n",
      "        created_by_type: User\n",
      "        last_modified_at: '2025-05-27T20:02:41.340084+00:00'\n",
      "        last_modified_by: Carlos Esteve\n",
      "        last_modified_by_type: User\n",
      "      id: /subscriptions/7decb7a4-f615-4cc3-9d7d-5de10998373f/resourceGroups/naturgy/providers/Microsoft.MachineLearningServices/workspaces/naturgyml/components/train_rf_model_housing/versions/2\n",
      "      is_deterministic: true\n",
      "  eval_model:\n",
      "    type: command\n",
      "    inputs:\n",
      "      input_data:\n",
      "        path: ${{parent.jobs.train_model.outputs.output_data}}\n",
      "      model_input:\n",
      "        path: ${{parent.jobs.train_model.outputs.model_output}}\n",
      "    outputs:\n",
      "      metrics_output: ${{parent.outputs.pipeline_job_metrics_data}}\n",
      "    resources:\n",
      "      instance_count: 1\n",
      "    component:\n",
      "      $schema: https://azuremlschemas.azureedge.net/latest/commandComponent.schema.json\n",
      "      name: eval_model_metrics\n",
      "      version: '2'\n",
      "      display_name: \"Evaluaci\\xF3n de Modelo y exposici\\xF3n de M\\xE9tricas\"\n",
      "      type: command\n",
      "      inputs:\n",
      "        input_data:\n",
      "          type: uri_folder\n",
      "          optional: false\n",
      "        model_input:\n",
      "          type: mlflow_model\n",
      "          optional: false\n",
      "      outputs:\n",
      "        metrics_output:\n",
      "          type: uri_file\n",
      "      command: python eval-model.py --input_data ${{inputs.input_data}} --model_input\n",
      "        ${{inputs.model_input}} --metrics_output ${{outputs.metrics_output}}\n",
      "      environment: azureml://registries/azureml/environments/AzureML-sklearn-0.24-ubuntu18.04-py37-cpu/versions/49\n",
      "      code: azureml:/subscriptions/7decb7a4-f615-4cc3-9d7d-5de10998373f/resourceGroups/naturgy/providers/Microsoft.MachineLearningServices/workspaces/naturgyml/codes/313d4387-5fc0-4715-b415-f82560563538/versions/1\n",
      "      resources:\n",
      "        instance_count: 1\n",
      "      creation_context:\n",
      "        created_at: '2025-05-27T19:38:26.517200+00:00'\n",
      "        created_by: Carlos Esteve\n",
      "        created_by_type: User\n",
      "        last_modified_at: '2025-05-27T20:02:46.301026+00:00'\n",
      "        last_modified_by: Carlos Esteve\n",
      "        last_modified_by_type: User\n",
      "      id: /subscriptions/7decb7a4-f615-4cc3-9d7d-5de10998373f/resourceGroups/naturgy/providers/Microsoft.MachineLearningServices/workspaces/naturgyml/components/eval_model_metrics/versions/2\n",
      "      is_deterministic: true\n",
      "  register_model:\n",
      "    type: command\n",
      "    inputs:\n",
      "      metrics_input:\n",
      "        path: ${{parent.jobs.eval_model.outputs.metrics_output}}\n",
      "      model_input:\n",
      "        path: ${{parent.jobs.train_model.outputs.model_output}}\n",
      "      model_name: hous_pricing_rf_model\n",
      "    resources:\n",
      "      instance_count: 1\n",
      "    component:\n",
      "      $schema: https://azuremlschemas.azureedge.net/latest/commandComponent.schema.json\n",
      "      name: register_conditional_model\n",
      "      version: '17'\n",
      "      display_name: Registro condicional del modelo\n",
      "      type: command\n",
      "      inputs:\n",
      "        metrics_input:\n",
      "          type: uri_file\n",
      "          optional: false\n",
      "        model_input:\n",
      "          type: mlflow_model\n",
      "          optional: false\n",
      "        model_name:\n",
      "          type: string\n",
      "          optional: false\n",
      "      command: python register-model.py --metrics_input ${{inputs.metrics_input}}\n",
      "        --model_input ${{inputs.model_input}} --model_name ${{inputs.model_name}}\n",
      "      environment: azureml:/subscriptions/7decb7a4-f615-4cc3-9d7d-5de10998373f/resourceGroups/naturgy/providers/Microsoft.MachineLearningServices/workspaces/naturgyml/environments/sklearn-azure-ai-env/versions/4\n",
      "      code: azureml:/subscriptions/7decb7a4-f615-4cc3-9d7d-5de10998373f/resourceGroups/naturgy/providers/Microsoft.MachineLearningServices/workspaces/naturgyml/codes/91165800-e9fa-4ec8-a843-45787657902f/versions/1\n",
      "      resources:\n",
      "        instance_count: 1\n",
      "      creation_context:\n",
      "        created_at: '2025-05-27T20:56:01.701041+00:00'\n",
      "        created_by: Carlos Esteve\n",
      "        created_by_type: User\n",
      "        last_modified_at: '2025-05-27T20:56:01.769256+00:00'\n",
      "        last_modified_by: Carlos Esteve\n",
      "        last_modified_by_type: User\n",
      "      id: /subscriptions/7decb7a4-f615-4cc3-9d7d-5de10998373f/resourceGroups/naturgy/providers/Microsoft.MachineLearningServices/workspaces/naturgyml/components/register_conditional_model/versions/17\n",
      "      is_deterministic: true\n",
      "settings:\n",
      "  default_datastore: azureml:training_data_ces\n",
      "  default_compute: azureml:Carlos-Esteve\n",
      "  force_rerun: false\n",
      "\n"
     ]
    }
   ],
   "source": [
    "print(pipeline_job)"
   ]
  },
  {
   "cell_type": "markdown",
   "metadata": {},
   "source": [
    "## Enviar el job de pipeline"
   ]
  },
  {
   "cell_type": "code",
   "execution_count": 16,
   "metadata": {},
   "outputs": [
    {
     "name": "stderr",
     "output_type": "stream",
     "text": [
      "pathOnCompute is not a known attribute of class <class 'azure.ai.ml._restclient.v2023_04_01_preview.models._models_py3.UriFolderJobOutput'> and will be ignored\n",
      "pathOnCompute is not a known attribute of class <class 'azure.ai.ml._restclient.v2023_04_01_preview.models._models_py3.MLFlowModelJobOutput'> and will be ignored\n",
      "pathOnCompute is not a known attribute of class <class 'azure.ai.ml._restclient.v2023_04_01_preview.models._models_py3.UriFolderJobOutput'> and will be ignored\n",
      "pathOnCompute is not a known attribute of class <class 'azure.ai.ml._restclient.v2023_04_01_preview.models._models_py3.UriFileJobOutput'> and will be ignored\n"
     ]
    },
    {
     "data": {
      "text/html": [
       "<table style=\"width:100%\"><tr><th>Experiment</th><th>Name</th><th>Type</th><th>Status</th><th>Details Page</th></tr><tr><td>pipeline_housing_rf_prices</td><td>jovial_root_rdhctzk1q7</td><td>pipeline</td><td>NotStarted</td><td><a href=\"https://ml.azure.com/runs/jovial_root_rdhctzk1q7?wsid=/subscriptions/7decb7a4-f615-4cc3-9d7d-5de10998373f/resourcegroups/naturgy/workspaces/naturgyml&amp;tid=8b85184d-f6f0-4ace-80dd-c3bda5a6c156\" target=\"_blank\" rel=\"noopener\">Link to Azure Machine Learning studio</a></td></tr></table>"
      ],
      "text/plain": [
       "PipelineJob({'inputs': {'input_data': <azure.ai.ml.entities._job.pipeline._io.base.PipelineInput object at 0x7fd10e6fad10>, 'n_estimators': <azure.ai.ml.entities._job.pipeline._io.base.PipelineInput object at 0x7fd10e6facb0>}, 'outputs': {'pipeline_job_transformed_data': <azure.ai.ml.entities._job.pipeline._io.base.PipelineOutput object at 0x7fd10e6fa680>, 'pipeline_job_trained_model': <azure.ai.ml.entities._job.pipeline._io.base.PipelineOutput object at 0x7fd10e6fae00>, 'pipeline_job_output_data': <azure.ai.ml.entities._job.pipeline._io.base.PipelineOutput object at 0x7fd0eb7ccc10>, 'pipeline_job_metrics_data': <azure.ai.ml.entities._job.pipeline._io.base.PipelineOutput object at 0x7fd0eb7cc4c0>}, 'jobs': {}, 'component': PipelineComponent({'latest_version': None, 'intellectual_property': None, 'auto_increment_version': False, 'source': 'REMOTE.WORKSPACE.JOB', 'is_anonymous': True, 'auto_delete_setting': None, 'name': 'azureml_anonymous', 'description': 'Pipeline to train a house pricing model', 'tags': {}, 'properties': {}, 'print_as_yaml': False, 'id': None, 'Resource__source_path': None, 'base_path': '/mnt/batch/tasks/shared/LS_root/mounts/clusters/carlos-esteve/code/Users/cesteves.netmind/azure-machine-learning/3.Despliegue_Modelos/ejercicios/1.pipeline_registro_modelo_CES', 'creation_context': None, 'serialize': <msrest.serialization.Serializer object at 0x7fd0ebe61090>, 'version': '1', 'schema': None, 'type': 'pipeline', 'display_name': 'house_pricing_pipeline', 'is_deterministic': None, 'inputs': {'input_data': {}, 'n_estimators': {}}, 'outputs': {'pipeline_job_transformed_data': {}, 'pipeline_job_trained_model': {}, 'pipeline_job_output_data': {}, 'pipeline_job_metrics_data': {}}, 'yaml_str': None, 'other_parameter': {}, 'jobs': {'clean_data': Command({'parameters': {}, 'init': False, 'name': 'clean_data', 'type': 'command', 'status': None, 'log_files': None, 'description': None, 'tags': {}, 'properties': {}, 'print_as_yaml': False, 'id': None, 'Resource__source_path': '', 'base_path': '/mnt/batch/tasks/shared/LS_root/mounts/clusters/carlos-esteve/code/Users/cesteves.netmind/azure-machine-learning/3.Despliegue_Modelos/ejercicios/1.pipeline_registro_modelo_CES', 'creation_context': None, 'serialize': <msrest.serialization.Serializer object at 0x7fd0eb96f370>, 'allowed_keys': {}, 'key_restriction': False, 'logger': <Logger attr_dict (WARNING)>, 'display_name': None, 'experiment_name': None, 'compute': None, 'services': None, 'comment': None, 'job_inputs': {'input_data': '${{parent.inputs.input_data}}'}, 'job_outputs': {'output_data': '${{parent.outputs.pipeline_job_transformed_data}}'}, 'inputs': {'input_data': <azure.ai.ml.entities._job.pipeline._io.base.NodeInput object at 0x7fd10b1fb700>}, 'outputs': {'output_data': <azure.ai.ml.entities._job.pipeline._io.base.NodeOutput object at 0x7fd0eb96ff40>}, 'component': 'ing_prep_data_housing_ces:2', 'referenced_control_flow_node_instance_id': None, 'kwargs': {'services': None}, 'instance_id': '10b19347-3059-4bbc-bf8e-f4c5b0673084', 'source': 'REMOTE.WORKSPACE.COMPONENT', 'validate_required_input_not_provided': True, 'limits': None, 'identity': None, 'distribution': None, 'environment_variables': {}, 'environment': None, 'resources': {'instance_count': 1}, 'queue_settings': None, 'parent_job_name': None, 'swept': False}), 'train_model': Command({'parameters': {}, 'init': False, 'name': 'train_model', 'type': 'command', 'status': None, 'log_files': None, 'description': None, 'tags': {}, 'properties': {}, 'print_as_yaml': False, 'id': None, 'Resource__source_path': '', 'base_path': '/mnt/batch/tasks/shared/LS_root/mounts/clusters/carlos-esteve/code/Users/cesteves.netmind/azure-machine-learning/3.Despliegue_Modelos/ejercicios/1.pipeline_registro_modelo_CES', 'creation_context': None, 'serialize': <msrest.serialization.Serializer object at 0x7fd10bd090c0>, 'allowed_keys': {}, 'key_restriction': False, 'logger': <Logger attr_dict (WARNING)>, 'display_name': None, 'experiment_name': None, 'compute': None, 'services': None, 'comment': None, 'job_inputs': {'input_data': '${{parent.jobs.clean_data.outputs.output_data}}', 'n_estimators': '${{parent.inputs.n_estimators}}'}, 'job_outputs': {'model_output': '${{parent.outputs.pipeline_job_trained_model}}', 'output_data': '${{parent.outputs.pipeline_job_output_data}}'}, 'inputs': {'input_data': <azure.ai.ml.entities._job.pipeline._io.base.NodeInput object at 0x7fd10e15f160>, 'n_estimators': <azure.ai.ml.entities._job.pipeline._io.base.NodeInput object at 0x7fd10e15efb0>}, 'outputs': {'model_output': <azure.ai.ml.entities._job.pipeline._io.base.NodeOutput object at 0x7fd10b1fb8e0>, 'output_data': <azure.ai.ml.entities._job.pipeline._io.base.NodeOutput object at 0x7fd0eb841b10>}, 'component': 'train_rf_model_housing:2', 'referenced_control_flow_node_instance_id': None, 'kwargs': {'services': None}, 'instance_id': 'ccca576d-3920-4550-be9e-7e7c475ecbb4', 'source': 'REMOTE.WORKSPACE.COMPONENT', 'validate_required_input_not_provided': True, 'limits': None, 'identity': None, 'distribution': None, 'environment_variables': {}, 'environment': None, 'resources': {'instance_count': 1}, 'queue_settings': None, 'parent_job_name': None, 'swept': False}), 'eval_model': Command({'parameters': {}, 'init': False, 'name': 'eval_model', 'type': 'command', 'status': None, 'log_files': None, 'description': None, 'tags': {}, 'properties': {}, 'print_as_yaml': False, 'id': None, 'Resource__source_path': '', 'base_path': '/mnt/batch/tasks/shared/LS_root/mounts/clusters/carlos-esteve/code/Users/cesteves.netmind/azure-machine-learning/3.Despliegue_Modelos/ejercicios/1.pipeline_registro_modelo_CES', 'creation_context': None, 'serialize': <msrest.serialization.Serializer object at 0x7fd0eb841d20>, 'allowed_keys': {}, 'key_restriction': False, 'logger': <Logger attr_dict (WARNING)>, 'display_name': None, 'experiment_name': None, 'compute': None, 'services': None, 'comment': None, 'job_inputs': {'input_data': '${{parent.jobs.train_model.outputs.output_data}}', 'model_input': '${{parent.jobs.train_model.outputs.model_output}}'}, 'job_outputs': {'metrics_output': '${{parent.outputs.pipeline_job_metrics_data}}'}, 'inputs': {'input_data': <azure.ai.ml.entities._job.pipeline._io.base.NodeInput object at 0x7fd0eb842d40>, 'model_input': <azure.ai.ml.entities._job.pipeline._io.base.NodeInput object at 0x7fd0eb842650>}, 'outputs': {'metrics_output': <azure.ai.ml.entities._job.pipeline._io.base.NodeOutput object at 0x7fd0eb841b70>}, 'component': 'eval_model_metrics:2', 'referenced_control_flow_node_instance_id': None, 'kwargs': {'services': None}, 'instance_id': '03ea0567-4bf3-4cc2-b2dd-8ec3b1f6985f', 'source': 'REMOTE.WORKSPACE.COMPONENT', 'validate_required_input_not_provided': True, 'limits': None, 'identity': None, 'distribution': None, 'environment_variables': {}, 'environment': None, 'resources': {'instance_count': 1}, 'queue_settings': None, 'parent_job_name': None, 'swept': False}), 'register_model': Command({'parameters': {}, 'init': False, 'name': 'register_model', 'type': 'command', 'status': None, 'log_files': None, 'description': None, 'tags': {}, 'properties': {}, 'print_as_yaml': False, 'id': None, 'Resource__source_path': '', 'base_path': '/mnt/batch/tasks/shared/LS_root/mounts/clusters/carlos-esteve/code/Users/cesteves.netmind/azure-machine-learning/3.Despliegue_Modelos/ejercicios/1.pipeline_registro_modelo_CES', 'creation_context': None, 'serialize': <msrest.serialization.Serializer object at 0x7fd10a1990f0>, 'allowed_keys': {}, 'key_restriction': False, 'logger': <Logger attr_dict (WARNING)>, 'display_name': None, 'experiment_name': None, 'compute': None, 'services': None, 'comment': None, 'job_inputs': {'model_name': 'hous_pricing_rf_model', 'metrics_input': '${{parent.jobs.eval_model.outputs.metrics_output}}', 'model_input': '${{parent.jobs.train_model.outputs.model_output}}'}, 'job_outputs': {}, 'inputs': {'model_name': <azure.ai.ml.entities._job.pipeline._io.base.NodeInput object at 0x7fd10a199ff0>, 'metrics_input': <azure.ai.ml.entities._job.pipeline._io.base.NodeInput object at 0x7fd0ebe60370>, 'model_input': <azure.ai.ml.entities._job.pipeline._io.base.NodeInput object at 0x7fd0ebe60850>}, 'outputs': {}, 'component': 'register_conditional_model:17', 'referenced_control_flow_node_instance_id': None, 'kwargs': {'services': None}, 'instance_id': '1f149980-55fd-456a-97b1-f7d5e76163a5', 'source': 'REMOTE.WORKSPACE.COMPONENT', 'validate_required_input_not_provided': True, 'limits': None, 'identity': None, 'distribution': None, 'environment_variables': {}, 'environment': None, 'resources': {'instance_count': 1}, 'queue_settings': None, 'parent_job_name': None, 'swept': False})}, 'job_types': {'command': 4}, 'job_sources': {'REMOTE.WORKSPACE.COMPONENT': 4}, 'source_job_id': None}), 'type': 'pipeline', 'status': 'NotStarted', 'log_files': None, 'name': 'jovial_root_rdhctzk1q7', 'description': 'Pipeline to train a house pricing model', 'tags': {}, 'properties': {'mlflow.source.git.repoURL': 'https://github.com/ricardoahumada/azure-machine-learning.git', 'mlflow.source.git.branch': 'main', 'mlflow.source.git.commit': '623a9b19382a837361dbf82196428ca89784ec44', 'azureml.git.dirty': 'True'}, 'print_as_yaml': False, 'id': '/subscriptions/7decb7a4-f615-4cc3-9d7d-5de10998373f/resourceGroups/naturgy/providers/Microsoft.MachineLearningServices/workspaces/naturgyml/jobs/jovial_root_rdhctzk1q7', 'Resource__source_path': '', 'base_path': '/mnt/batch/tasks/shared/LS_root/mounts/clusters/carlos-esteve/code/Users/cesteves.netmind/azure-machine-learning/3.Despliegue_Modelos/ejercicios/1.pipeline_registro_modelo_CES', 'creation_context': <azure.ai.ml.entities._system_data.SystemData object at 0x7fd10e6fab30>, 'serialize': <msrest.serialization.Serializer object at 0x7fd0eb7cc7f0>, 'display_name': 'house_pricing_pipeline', 'experiment_name': 'pipeline_housing_rf_prices', 'compute': None, 'services': {'Tracking': {'endpoint': 'azureml://eastus2.api.azureml.ms/mlflow/v1.0/subscriptions/7decb7a4-f615-4cc3-9d7d-5de10998373f/resourceGroups/naturgy/providers/Microsoft.MachineLearningServices/workspaces/naturgyml?', 'type': 'Tracking'}, 'Studio': {'endpoint': 'https://ml.azure.com/runs/jovial_root_rdhctzk1q7?wsid=/subscriptions/7decb7a4-f615-4cc3-9d7d-5de10998373f/resourcegroups/naturgy/workspaces/naturgyml&tid=8b85184d-f6f0-4ace-80dd-c3bda5a6c156', 'type': 'Studio'}}, 'settings': {}, 'identity': None, 'default_code': None, 'default_environment': None})"
      ]
     },
     "execution_count": 16,
     "metadata": {},
     "output_type": "execute_result"
    }
   ],
   "source": [
    "# submit job to workspace\n",
    "pipeline_job = ml_client.jobs.create_or_update(\n",
    "    pipeline_job,\n",
    "    experiment_name=\"pipeline_housing_rf_prices\",\n",
    "    display_name=\"pipeline_housing_rf_prices\"\n",
    ")\n",
    "\n",
    "pipeline_job"
   ]
  }
 ],
 "metadata": {
  "kernel_info": {
   "name": "python38-azureml"
  },
  "kernelspec": {
   "display_name": "azureml_py38",
   "language": "python",
   "name": "python3"
  },
  "language_info": {
   "codemirror_mode": {
    "name": "ipython",
    "version": 3
   },
   "file_extension": ".py",
   "mimetype": "text/x-python",
   "name": "python",
   "nbconvert_exporter": "python",
   "pygments_lexer": "ipython3",
   "version": "3.10.11"
  },
  "microsoft": {
   "host": {
    "AzureML": {
     "notebookHasBeenCompleted": true
    }
   }
  },
  "nteract": {
   "version": "nteract-front-end@1.0.0"
  }
 },
 "nbformat": 4,
 "nbformat_minor": 2
}
