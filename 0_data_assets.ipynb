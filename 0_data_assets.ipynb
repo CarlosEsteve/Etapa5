{
 "cells": [
  {
   "cell_type": "markdown",
   "id": "bd19d30a",
   "metadata": {},
   "source": [
    "# CARGAR DATOS"
   ]
  },
  {
   "cell_type": "code",
   "execution_count": 1,
   "id": "15fcac50",
   "metadata": {},
   "outputs": [
    {
     "name": "stdout",
     "output_type": "stream",
     "text": [
      "Name: azure-ai-ml\n",
      "Version: 1.27.0\n",
      "Summary: Microsoft Azure Machine Learning Client Library for Python\n",
      "Home-page: https://github.com/Azure/azure-sdk-for-python\n",
      "Author: Microsoft Corporation\n",
      "Author-email: azuresdkengsysadmins@microsoft.com\n",
      "License: MIT License\n",
      "Location: /anaconda/envs/azureml_py38/lib/python3.10/site-packages\n",
      "Requires: azure-common, azure-core, azure-mgmt-core, azure-monitor-opentelemetry, azure-storage-blob, azure-storage-file-datalake, azure-storage-file-share, colorama, isodate, jsonschema, marshmallow, msrest, pydash, pyjwt, pyyaml, six, strictyaml, tqdm, typing-extensions\n",
      "Required-by: \n"
     ]
    }
   ],
   "source": [
    "# mostrar info de azure-ai-ml\n",
    "! pip show azure-ai-ml"
   ]
  },
  {
   "cell_type": "markdown",
   "id": "a65d4ca8",
   "metadata": {},
   "source": [
    "## Conectar a workspace"
   ]
  },
  {
   "cell_type": "code",
   "execution_count": 2,
   "id": "e08edce8",
   "metadata": {},
   "outputs": [
    {
     "name": "stderr",
     "output_type": "stream",
     "text": [
      "Found the config file in: ./config.json\n"
     ]
    },
    {
     "name": "stdout",
     "output_type": "stream",
     "text": [
      "Conectado al Workspace: naturgyml\n"
     ]
    }
   ],
   "source": [
    "# conectar\n",
    "from azure.ai.ml import MLClient\n",
    "from azure.identity import DefaultAzureCredential\n",
    "\n",
    "ml_client = MLClient.from_config(credential=DefaultAzureCredential())\n",
    "\n",
    "print(f\"Conectado al Workspace: {ml_client.workspace_name}\")\n"
   ]
  },
  {
   "cell_type": "markdown",
   "id": "699bc30e",
   "metadata": {},
   "source": [
    "## Listar los almacenes de datos"
   ]
  },
  {
   "cell_type": "code",
   "execution_count": null,
   "id": "ff7fbc15",
   "metadata": {},
   "outputs": [],
   "source": [
    "# listar los almacenes\n",
    "stores = ml_client.datastores.list()\n",
    "\n",
    "for aS in stores:\n",
    "    print(aS.name, ':\\n', aS)"
   ]
  },
  {
   "cell_type": "markdown",
   "id": "63e686bf",
   "metadata": {},
   "source": [
    "## Crear un datastore"
   ]
  },
  {
   "cell_type": "code",
   "execution_count": null,
   "id": "f271c227",
   "metadata": {},
   "outputs": [
    {
     "data": {
      "text/plain": [
       "AzureBlobDatastore({'type': <DatastoreType.AZURE_BLOB: 'AzureBlob'>, 'name': 'etapa_5_data_assets_ces', 'description': 'Blob Storage for Etapa 5 training data', 'tags': {}, 'properties': {}, 'print_as_yaml': False, 'id': '/subscriptions/7decb7a4-f615-4cc3-9d7d-5de10998373f/resourceGroups/naturgy/providers/Microsoft.MachineLearningServices/workspaces/naturgyml/datastores/etapa_5_data_assets_ces', 'Resource__source_path': '', 'base_path': '/mnt/batch/tasks/shared/LS_root/mounts/clusters/carlos-esteve/code/Users/cesteves.netmind/Etapa5', 'creation_context': None, 'serialize': <msrest.serialization.Serializer object at 0x7fbc07dc2ef0>, 'credentials': {'type': 'account_key'}, 'container_name': 'training-data-ces-etapa-5', 'account_name': 'naturgysc2', 'endpoint': 'core.windows.net', 'protocol': 'https'})"
      ]
     },
     "execution_count": 6,
     "metadata": {},
     "output_type": "execute_result"
    }
   ],
   "source": [
    "from azure.ai.ml.entities import AzureBlobDatastore\n",
    "from azure.ai.ml.entities import AccountKeyConfiguration\n",
    "\n",
    "store = AzureBlobDatastore(\n",
    "    name=\"Etapa_5_data_assets_ces\",\n",
    "    description=\"Blob Storage for Etapa 5 training data\",\n",
    "    account_name=\"naturgysc2\",\n",
    "    container_name=\"training-data-ces-etapa-5\", \n",
    "    credentials=AccountKeyConfiguration(\n",
    "        account_key=\"XXXXXX\"\n",
    "    ),\n",
    ")\n",
    "\n",
    "ml_client.create_or_update(store)"
   ]
  },
  {
   "cell_type": "markdown",
   "id": "9e1b1878",
   "metadata": {},
   "source": [
    "Listar los almacenes de datos nuevamente para verificar que se haya creado un nuevo almacén de datos llamado `blob_training_data`:"
   ]
  },
  {
   "cell_type": "code",
   "execution_count": null,
   "id": "09ee0df1",
   "metadata": {},
   "outputs": [],
   "source": [
    "# listar los almacenes\n",
    "stores = ml_client.datastores.list()\n",
    "\n",
    "for aS in stores:\n",
    "    print(aS.name, ':\\n', aS)\n",
    "    "
   ]
  },
  {
   "cell_type": "markdown",
   "id": "3d824f41",
   "metadata": {},
   "source": [
    "## Crear URI_FILE"
   ]
  },
  {
   "cell_type": "code",
   "execution_count": 8,
   "id": "15f22f4e",
   "metadata": {},
   "outputs": [
    {
     "name": "stderr",
     "output_type": "stream",
     "text": [
      "\u001b[32mUploading merge_df.csv\u001b[32m (< 1 MB): 67.1MB [00:01, 42.3MB/s]                                                                                                                                                                                                                                                                                                                                                                                                                                                                                                                                                                                                                                                                                                                                                                                                                                                                                                                                                                              \u001b[0m\n",
      "\u001b[39m\n",
      "\n"
     ]
    },
    {
     "data": {
      "text/plain": [
       "Data({'path': 'azureml://subscriptions/7decb7a4-f615-4cc3-9d7d-5de10998373f/resourcegroups/naturgy/workspaces/naturgyml/datastores/workspaceblobstore/paths/LocalUpload/092e1f68d63cd87138ef5d9ceedc8a0c/merge_df.csv', 'skip_validation': False, 'mltable_schema_url': None, 'referenced_uris': None, 'type': 'uri_file', 'is_anonymous': False, 'auto_increment_version': False, 'auto_delete_setting': None, 'name': 'etapa_5_data_asset_ces', 'description': 'Activo de datos que apunta a un archivo local, cargado automáticamente en el almacén de datos predeterminado', 'tags': {}, 'properties': {}, 'print_as_yaml': False, 'id': '/subscriptions/7decb7a4-f615-4cc3-9d7d-5de10998373f/resourceGroups/naturgy/providers/Microsoft.MachineLearningServices/workspaces/naturgyml/data/etapa_5_data_asset_ces/versions/1', 'Resource__source_path': '', 'base_path': '/mnt/batch/tasks/shared/LS_root/mounts/clusters/carlos-esteve/code/Users/cesteves.netmind/Etapa5', 'creation_context': <azure.ai.ml.entities._system_data.SystemData object at 0x7fbbec798bb0>, 'serialize': <msrest.serialization.Serializer object at 0x7fbbdfc457e0>, 'version': '1', 'latest_version': None, 'datastore': None})"
      ]
     },
     "execution_count": 8,
     "metadata": {},
     "output_type": "execute_result"
    }
   ],
   "source": [
    "# URI_FILE\n",
    "\n",
    "from azure.ai.ml.entities import Data\n",
    "from azure.ai.ml.constants import AssetTypes\n",
    " \n",
    "my_path = '/home/azureuser/cloudfiles/code/Users/cesteves.netmind/Etapa5/output/merge_df.csv'\n",
    " \n",
    "my_data = Data(\n",
    "    path=my_path,\n",
    "    type=AssetTypes.URI_FILE,\n",
    "    description=\"Activo de datos que apunta a un archivo local, cargado automáticamente en el almacén de datos predeterminado\",\n",
    "    name=\"etapa_5_data_asset_ces\",\n",
    ")\n",
    " \n",
    "ml_client.data.create_or_update(my_data)"
   ]
  },
  {
   "cell_type": "code",
   "execution_count": 11,
   "id": "787ee966",
   "metadata": {},
   "outputs": [
    {
     "data": {
      "text/plain": [
       "Data({'path': 'azureml://subscriptions/7decb7a4-f615-4cc3-9d7d-5de10998373f/resourcegroups/naturgy/workspaces/naturgyml/datastores/Etapa_5_data_assets_ces/paths/datos/', 'skip_validation': False, 'mltable_schema_url': None, 'referenced_uris': None, 'type': 'uri_folder', 'is_anonymous': False, 'auto_increment_version': False, 'auto_delete_setting': None, 'name': 'Etapa_5-data-folder-ces', 'description': 'Activo de datos que apunta a un archivo local, cargado automáticamente en el almacén de datos predeterminado', 'tags': {}, 'properties': {}, 'print_as_yaml': False, 'id': '/subscriptions/7decb7a4-f615-4cc3-9d7d-5de10998373f/resourceGroups/naturgy/providers/Microsoft.MachineLearningServices/workspaces/naturgyml/data/Etapa_5-data-folder-ces/versions/3', 'Resource__source_path': '', 'base_path': '/mnt/batch/tasks/shared/LS_root/mounts/clusters/carlos-esteve/code/Users/cesteves.netmind/Etapa5', 'creation_context': <azure.ai.ml.entities._system_data.SystemData object at 0x7fbbec798df0>, 'serialize': <msrest.serialization.Serializer object at 0x7fbbdfe7bd90>, 'version': '3', 'latest_version': None, 'datastore': None})"
      ]
     },
     "execution_count": 11,
     "metadata": {},
     "output_type": "execute_result"
    }
   ],
   "source": [
    "# URI_FOLDER\n",
    "\n",
    "\n",
    "from azure.ai.ml.entities import Data\n",
    "from azure.ai.ml.constants import AssetTypes\n",
    " \n",
    "my_path = 'azureml://datastores/Etapa_5_data_assets_ces/paths/datos'\n",
    " \n",
    "my_data = Data(\n",
    "    path=my_path,\n",
    "    type=AssetTypes.URI_FOLDER,\n",
    "    description=\"Activo de datos que apunta a un archivo local, cargado automáticamente en el almacén de datos predeterminado\",\n",
    "    name=\"Etapa_5-data-folder-ces\"\n",
    ")\n",
    " \n",
    "ml_client.data.create_or_update(my_data)"
   ]
  }
 ],
 "metadata": {
  "kernelspec": {
   "display_name": "azureml_py38",
   "language": "python",
   "name": "python3"
  },
  "language_info": {
   "codemirror_mode": {
    "name": "ipython",
    "version": 3
   },
   "file_extension": ".py",
   "mimetype": "text/x-python",
   "name": "python",
   "nbconvert_exporter": "python",
   "pygments_lexer": "ipython3",
   "version": "3.10.11"
  }
 },
 "nbformat": 4,
 "nbformat_minor": 5
}
