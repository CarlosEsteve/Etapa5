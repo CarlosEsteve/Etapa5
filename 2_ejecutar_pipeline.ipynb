{
 "cells": [
  {
   "cell_type": "markdown",
   "metadata": {},
   "source": [
    "# Ejecutar pipelines"
   ]
  },
  {
   "cell_type": "code",
   "execution_count": 1,
   "metadata": {},
   "outputs": [
    {
     "name": "stdout",
     "output_type": "stream",
     "text": [
      "Name: azure-ai-ml\n",
      "Version: 1.27.0\n",
      "Summary: Microsoft Azure Machine Learning Client Library for Python\n",
      "Home-page: https://github.com/Azure/azure-sdk-for-python\n",
      "Author: Microsoft Corporation\n",
      "Author-email: azuresdkengsysadmins@microsoft.com\n",
      "License: MIT License\n",
      "Location: /anaconda/envs/azureml_py38/lib/python3.10/site-packages\n",
      "Requires: azure-common, azure-core, azure-mgmt-core, azure-monitor-opentelemetry, azure-storage-blob, azure-storage-file-datalake, azure-storage-file-share, colorama, isodate, jsonschema, marshmallow, msrest, pydash, pyjwt, pyyaml, six, strictyaml, tqdm, typing-extensions\n",
      "Required-by: \n",
      "Note: you may need to restart the kernel to use updated packages.\n"
     ]
    }
   ],
   "source": [
    "pip show azure-ai-ml"
   ]
  },
  {
   "cell_type": "markdown",
   "metadata": {},
   "source": [
    "## Conectar a workspace"
   ]
  },
  {
   "cell_type": "code",
   "execution_count": 49,
   "metadata": {},
   "outputs": [
    {
     "name": "stderr",
     "output_type": "stream",
     "text": [
      "Found the config file in: ./config.json\n",
      "Overriding of current TracerProvider is not allowed\n",
      "Overriding of current LoggerProvider is not allowed\n"
     ]
    },
    {
     "name": "stderr",
     "output_type": "stream",
     "text": [
      "Overriding of current MeterProvider is not allowed\n",
      "Attempting to instrument while already instrumented\n",
      "Attempting to instrument while already instrumented\n",
      "Attempting to instrument while already instrumented\n",
      "Attempting to instrument while already instrumented\n",
      "Attempting to instrument while already instrumented\n"
     ]
    },
    {
     "name": "stdout",
     "output_type": "stream",
     "text": [
      "Conectado al Workspace: naturgyml\n"
     ]
    }
   ],
   "source": [
    "# conectar\n",
    "from azure.ai.ml import MLClient\n",
    "from azure.identity import DefaultAzureCredential\n",
    "\n",
    "ml_client = MLClient.from_config(credential=DefaultAzureCredential())\n",
    "\n",
    "print(f\"Conectado al Workspace: {ml_client.workspace_name}\")"
   ]
  },
  {
   "cell_type": "markdown",
   "metadata": {},
   "source": [
    "## Cargar los componentes"
   ]
  },
  {
   "cell_type": "code",
   "execution_count": 64,
   "metadata": {},
   "outputs": [],
   "source": [
    "from azure.ai.ml import load_component\n",
    "\n",
    "ing_prep_data = ml_client.components.get(name=\"ing_prep_data_etapa_5_ces\", version=5)\n",
    "train_model_etapa_5 = ml_client.components.get(name=\"train_rf_model_etapa_5_ces\", version=10)\n",
    "eval_model_etapa_5 = ml_client.components.get(name=\"eval_model_metrics_etapa_5_ces\", version=2)\n",
    "# register_model_predict_failure = ml_client.components.get(name=\"register_conditional_model\", version=5)"
   ]
  },
  {
   "cell_type": "markdown",
   "metadata": {},
   "source": [
    "## Build del pipeline"
   ]
  },
  {
   "cell_type": "code",
   "execution_count": 65,
   "metadata": {},
   "outputs": [],
   "source": [
    "from azure.ai.ml import Input\n",
    "from azure.ai.ml.constants import AssetTypes\n",
    "from azure.ai.ml.dsl import pipeline\n",
    "\n",
    "\n",
    "@pipeline(name=\"Predict_failure_pipeline\", description=\"Pipeline to train a failure predict model\")\n",
    "def predict_failure(input_data, equipo_input, horizon, n_estimators):\n",
    "    clean_data = ing_prep_data(input_data=input_data, equipo_input=equipo_input)\n",
    "    train_model = train_model_etapa_5(input_data=clean_data.outputs.output_data, horizon=horizon, n_estimators=n_estimators)\n",
    "    eval_model = eval_model_etapa_5(input_data=train_model.outputs.output_data, model_input=train_model.outputs.model_output)\n",
    "    # register_model = register_model_predict_failure(model_input=train_model.outputs.model_output, metrics_input=eval_model.outputs.metrics_output, model_name=\"predict_failure_rf_model\")\n",
    "\n",
    "    return {\n",
    "        \"pipeline_job_transformed_data\": clean_data.outputs.output_data,\n",
    "        \"pipeline_job_trained_model\": train_model.outputs.model_output,\n",
    "        \"pipeline_job_output_data\": train_model.outputs.output_data,\n",
    "        \"pipeline_job_metrics_data\": eval_model.outputs.metrics_output,\n",
    "    }"
   ]
  },
  {
   "cell_type": "code",
   "execution_count": 66,
   "metadata": {},
   "outputs": [],
   "source": [
    "# definir job de pipeline\n",
    "pipeline_job = predict_failure(Input(type=AssetTypes.URI_FILE, path=\"azureml:etapa_5_data_asset_ces:1\"), equipo_input=3, horizon=100, n_estimators=100)\n",
    "\n",
    "# change the output mode\n",
    "pipeline_job.outputs.pipeline_job_transformed_data.mode = \"upload\"\n",
    "pipeline_job.outputs.pipeline_job_trained_model.mode = \"upload\"\n",
    "\n",
    "# set pipeline level compute\n",
    "pipeline_job.settings.default_compute = \"Carlos-Esteve\"\n",
    "\n",
    "# set pipeline level datastore\n",
    "pipeline_job.settings.default_datastore = \"etapa_5_data_assets_ces\"\n",
    "pipeline_job.settings.force_rerun = False"
   ]
  },
  {
   "cell_type": "code",
   "execution_count": 67,
   "metadata": {},
   "outputs": [
    {
     "name": "stdout",
     "output_type": "stream",
     "text": [
      "display_name: Predict_failure_pipeline\n",
      "description: Pipeline to train a failure predict model\n",
      "type: pipeline\n",
      "inputs:\n",
      "  input_data:\n",
      "    type: uri_file\n",
      "    path: azureml:etapa_5_data_asset_ces:1\n",
      "  equipo_input: 3\n",
      "  horizon: 100\n",
      "  n_estimators: 100\n",
      "outputs:\n",
      "  pipeline_job_transformed_data:\n",
      "    mode: upload\n",
      "    type: uri_folder\n",
      "  pipeline_job_trained_model:\n",
      "    mode: upload\n",
      "    type: mlflow_model\n",
      "  pipeline_job_output_data:\n",
      "    type: uri_folder\n",
      "  pipeline_job_metrics_data:\n",
      "    type: uri_file\n",
      "jobs:\n",
      "  clean_data:\n",
      "    type: command\n",
      "    inputs:\n",
      "      input_data:\n",
      "        path: ${{parent.inputs.input_data}}\n",
      "      equipo_input:\n",
      "        path: ${{parent.inputs.equipo_input}}\n",
      "    outputs:\n",
      "      output_data: ${{parent.outputs.pipeline_job_transformed_data}}\n",
      "    resources:\n",
      "      instance_count: 1\n",
      "    component:\n",
      "      $schema: https://azuremlschemas.azureedge.net/latest/commandComponent.schema.json\n",
      "      name: ing_prep_data_etapa_5_ces\n",
      "      version: '5'\n",
      "      display_name: Ingesta y Preprocesamiento de Datos Etapa 5\n",
      "      type: command\n",
      "      inputs:\n",
      "        input_data:\n",
      "          type: uri_file\n",
      "          optional: false\n",
      "        equipo_input:\n",
      "          type: number\n",
      "          optional: false\n",
      "      outputs:\n",
      "        output_data:\n",
      "          type: uri_folder\n",
      "      command: python ing-prep-data.py --input_data ${{inputs.input_data}} --equipo_input\n",
      "        ${{inputs.equipo_input}} --output_data ${{outputs.output_data}}\n",
      "      environment: azureml://registries/azureml/environments/AzureML-sklearn-0.24-ubuntu18.04-py37-cpu/versions/49\n",
      "      code: azureml:/subscriptions/7decb7a4-f615-4cc3-9d7d-5de10998373f/resourceGroups/naturgy/providers/Microsoft.MachineLearningServices/workspaces/naturgyml/codes/3d50380d-df77-4adb-b156-d5c494f02a11/versions/1\n",
      "      resources:\n",
      "        instance_count: 1\n",
      "      creation_context:\n",
      "        created_at: '2025-05-30T20:51:13.342891+00:00'\n",
      "        created_by: Carlos Esteve\n",
      "        created_by_type: User\n",
      "        last_modified_at: '2025-05-30T20:51:13.410912+00:00'\n",
      "        last_modified_by: Carlos Esteve\n",
      "        last_modified_by_type: User\n",
      "      id: /subscriptions/7decb7a4-f615-4cc3-9d7d-5de10998373f/resourceGroups/naturgy/providers/Microsoft.MachineLearningServices/workspaces/naturgyml/components/ing_prep_data_etapa_5_ces/versions/5\n",
      "      is_deterministic: true\n",
      "  train_model:\n",
      "    type: command\n",
      "    inputs:\n",
      "      input_data:\n",
      "        path: ${{parent.jobs.clean_data.outputs.output_data}}\n",
      "      horizon:\n",
      "        path: ${{parent.inputs.horizon}}\n",
      "      n_estimators:\n",
      "        path: ${{parent.inputs.n_estimators}}\n",
      "    outputs:\n",
      "      model_output: ${{parent.outputs.pipeline_job_trained_model}}\n",
      "      output_data: ${{parent.outputs.pipeline_job_output_data}}\n",
      "    resources:\n",
      "      instance_count: 1\n",
      "    component:\n",
      "      $schema: https://azuremlschemas.azureedge.net/latest/commandComponent.schema.json\n",
      "      name: train_rf_model_etapa_5_ces\n",
      "      version: '10'\n",
      "      display_name: Entrenamiento de Modelo Random Forest Etapa 5\n",
      "      type: command\n",
      "      inputs:\n",
      "        input_data:\n",
      "          type: uri_folder\n",
      "          optional: false\n",
      "        horizon:\n",
      "          type: number\n",
      "          optional: false\n",
      "          default: '15.0'\n",
      "        n_estimators:\n",
      "          type: number\n",
      "          optional: false\n",
      "          default: '100.0'\n",
      "      outputs:\n",
      "        model_output:\n",
      "          type: mlflow_model\n",
      "        output_data:\n",
      "          type: uri_folder\n",
      "      command: python train-rf-model.py --input_data ${{inputs.input_data}} --horizon\n",
      "        ${{inputs.horizon}} --n_estimators ${{inputs.n_estimators}} --model_output\n",
      "        ${{outputs.model_output}} --output_data ${{outputs.output_data}}\n",
      "      environment: azureml://registries/azureml/environments/AzureML-sklearn-0.24-ubuntu18.04-py37-cpu/versions/49\n",
      "      code: azureml:/subscriptions/7decb7a4-f615-4cc3-9d7d-5de10998373f/resourceGroups/naturgy/providers/Microsoft.MachineLearningServices/workspaces/naturgyml/codes/22d597df-ab87-4c93-8950-8179185cc636/versions/1\n",
      "      resources:\n",
      "        instance_count: 1\n",
      "      creation_context:\n",
      "        created_at: '2025-06-01T20:11:03.485063+00:00'\n",
      "        created_by: Carlos Esteve\n",
      "        created_by_type: User\n",
      "        last_modified_at: '2025-06-01T20:11:03.588389+00:00'\n",
      "        last_modified_by: Carlos Esteve\n",
      "        last_modified_by_type: User\n",
      "      id: /subscriptions/7decb7a4-f615-4cc3-9d7d-5de10998373f/resourceGroups/naturgy/providers/Microsoft.MachineLearningServices/workspaces/naturgyml/components/train_rf_model_etapa_5_ces/versions/10\n",
      "      is_deterministic: true\n",
      "  eval_model:\n",
      "    type: command\n",
      "    inputs:\n",
      "      input_data:\n",
      "        path: ${{parent.jobs.train_model.outputs.output_data}}\n",
      "      model_input:\n",
      "        path: ${{parent.jobs.train_model.outputs.model_output}}\n",
      "    outputs:\n",
      "      metrics_output: ${{parent.outputs.pipeline_job_metrics_data}}\n",
      "    resources:\n",
      "      instance_count: 1\n",
      "    component:\n",
      "      $schema: https://azuremlschemas.azureedge.net/latest/commandComponent.schema.json\n",
      "      name: eval_model_metrics_etapa_5_ces\n",
      "      version: '2'\n",
      "      display_name: \"Evaluaci\\xF3n de Modelo y exposici\\xF3n de M\\xE9tricas\"\n",
      "      type: command\n",
      "      inputs:\n",
      "        input_data:\n",
      "          type: uri_folder\n",
      "          optional: false\n",
      "        model_input:\n",
      "          type: mlflow_model\n",
      "          optional: false\n",
      "      outputs:\n",
      "        metrics_output:\n",
      "          type: uri_file\n",
      "      command: python eval-model.py --input_data ${{inputs.input_data}} --model_input\n",
      "        ${{inputs.model_input}} --metrics_output ${{outputs.metrics_output}}\n",
      "      environment: azureml://registries/azureml/environments/AzureML-sklearn-0.24-ubuntu18.04-py37-cpu/versions/49\n",
      "      code: azureml:/subscriptions/7decb7a4-f615-4cc3-9d7d-5de10998373f/resourceGroups/naturgy/providers/Microsoft.MachineLearningServices/workspaces/naturgyml/codes/4625d113-d20a-483c-b7b1-ebe2ae0c72be/versions/1\n",
      "      resources:\n",
      "        instance_count: 1\n",
      "      creation_context:\n",
      "        created_at: '2025-05-31T18:15:54.916653+00:00'\n",
      "        created_by: Carlos Esteve\n",
      "        created_by_type: User\n",
      "        last_modified_at: '2025-05-31T18:15:55.002834+00:00'\n",
      "        last_modified_by: Carlos Esteve\n",
      "        last_modified_by_type: User\n",
      "      id: /subscriptions/7decb7a4-f615-4cc3-9d7d-5de10998373f/resourceGroups/naturgy/providers/Microsoft.MachineLearningServices/workspaces/naturgyml/components/eval_model_metrics_etapa_5_ces/versions/2\n",
      "      is_deterministic: true\n",
      "settings:\n",
      "  default_datastore: azureml:etapa_5_data_assets_ces\n",
      "  default_compute: azureml:Carlos-Esteve\n",
      "  force_rerun: false\n",
      "\n"
     ]
    }
   ],
   "source": [
    "print(pipeline_job)"
   ]
  },
  {
   "cell_type": "markdown",
   "metadata": {},
   "source": [
    "## Enviar el job de pipeline"
   ]
  },
  {
   "cell_type": "code",
   "execution_count": 68,
   "metadata": {},
   "outputs": [
    {
     "name": "stderr",
     "output_type": "stream",
     "text": [
      "pathOnCompute is not a known attribute of class <class 'azure.ai.ml._restclient.v2023_04_01_preview.models._models_py3.UriFolderJobOutput'> and will be ignored\n",
      "pathOnCompute is not a known attribute of class <class 'azure.ai.ml._restclient.v2023_04_01_preview.models._models_py3.MLFlowModelJobOutput'> and will be ignored\n",
      "pathOnCompute is not a known attribute of class <class 'azure.ai.ml._restclient.v2023_04_01_preview.models._models_py3.UriFolderJobOutput'> and will be ignored\n",
      "pathOnCompute is not a known attribute of class <class 'azure.ai.ml._restclient.v2023_04_01_preview.models._models_py3.UriFileJobOutput'> and will be ignored\n"
     ]
    },
    {
     "data": {
      "text/html": [
       "<table style=\"width:100%\"><tr><th>Experiment</th><th>Name</th><th>Type</th><th>Status</th><th>Details Page</th></tr><tr><td>pipeline_predict_failure</td><td>helpful_mango_jpxdvl5gff</td><td>pipeline</td><td>NotStarted</td><td><a href=\"https://ml.azure.com/runs/helpful_mango_jpxdvl5gff?wsid=/subscriptions/7decb7a4-f615-4cc3-9d7d-5de10998373f/resourcegroups/naturgy/workspaces/naturgyml&amp;tid=8b85184d-f6f0-4ace-80dd-c3bda5a6c156\" target=\"_blank\" rel=\"noopener\">Link to Azure Machine Learning studio</a></td></tr></table>"
      ],
      "text/plain": [
       "PipelineJob({'inputs': {'input_data': <azure.ai.ml.entities._job.pipeline._io.base.PipelineInput object at 0x7fa430bfcb20>, 'equipo_input': <azure.ai.ml.entities._job.pipeline._io.base.PipelineInput object at 0x7fa430bfc790>, 'horizon': <azure.ai.ml.entities._job.pipeline._io.base.PipelineInput object at 0x7fa430bfc850>, 'n_estimators': <azure.ai.ml.entities._job.pipeline._io.base.PipelineInput object at 0x7fa430bfd4e0>}, 'outputs': {'pipeline_job_transformed_data': <azure.ai.ml.entities._job.pipeline._io.base.PipelineOutput object at 0x7fa430bffb20>, 'pipeline_job_trained_model': <azure.ai.ml.entities._job.pipeline._io.base.PipelineOutput object at 0x7fa430bff580>, 'pipeline_job_output_data': <azure.ai.ml.entities._job.pipeline._io.base.PipelineOutput object at 0x7fa430bfd180>, 'pipeline_job_metrics_data': <azure.ai.ml.entities._job.pipeline._io.base.PipelineOutput object at 0x7fa430bff3d0>}, 'jobs': {}, 'component': PipelineComponent({'latest_version': None, 'intellectual_property': None, 'auto_increment_version': False, 'source': 'REMOTE.WORKSPACE.JOB', 'is_anonymous': True, 'auto_delete_setting': None, 'name': 'azureml_anonymous', 'description': 'Pipeline to train a failure predict model', 'tags': {}, 'properties': {}, 'print_as_yaml': False, 'id': None, 'Resource__source_path': None, 'base_path': '/mnt/batch/tasks/shared/LS_root/mounts/clusters/carlos-esteve/code/Users/cesteves.netmind/Etapa5', 'creation_context': None, 'serialize': <msrest.serialization.Serializer object at 0x7fa430bfff40>, 'version': '1', 'schema': None, 'type': 'pipeline', 'display_name': 'Predict_failure_pipeline', 'is_deterministic': None, 'inputs': {'input_data': {}, 'equipo_input': {}, 'horizon': {}, 'n_estimators': {}}, 'outputs': {'pipeline_job_transformed_data': {}, 'pipeline_job_trained_model': {}, 'pipeline_job_output_data': {}, 'pipeline_job_metrics_data': {}}, 'yaml_str': None, 'other_parameter': {}, 'jobs': {'clean_data': Command({'parameters': {}, 'init': False, 'name': 'clean_data', 'type': 'command', 'status': None, 'log_files': None, 'description': None, 'tags': {}, 'properties': {}, 'print_as_yaml': False, 'id': None, 'Resource__source_path': '', 'base_path': '/mnt/batch/tasks/shared/LS_root/mounts/clusters/carlos-esteve/code/Users/cesteves.netmind/Etapa5', 'creation_context': None, 'serialize': <msrest.serialization.Serializer object at 0x7fa454917760>, 'allowed_keys': {}, 'key_restriction': False, 'logger': <Logger attr_dict (WARNING)>, 'display_name': None, 'experiment_name': None, 'compute': None, 'services': None, 'comment': None, 'job_inputs': {'input_data': '${{parent.inputs.input_data}}', 'equipo_input': '${{parent.inputs.equipo_input}}'}, 'job_outputs': {'output_data': '${{parent.outputs.pipeline_job_transformed_data}}'}, 'inputs': {'input_data': <azure.ai.ml.entities._job.pipeline._io.base.NodeInput object at 0x7fa430a4f310>, 'equipo_input': <azure.ai.ml.entities._job.pipeline._io.base.NodeInput object at 0x7fa430a4fee0>}, 'outputs': {'output_data': <azure.ai.ml.entities._job.pipeline._io.base.NodeOutput object at 0x7fa43337e3b0>}, 'component': 'ing_prep_data_etapa_5_ces:5', 'referenced_control_flow_node_instance_id': None, 'kwargs': {'services': None}, 'instance_id': '6aef8a84-31a0-4cd2-9d10-65ee3fbe9a94', 'source': 'REMOTE.WORKSPACE.COMPONENT', 'validate_required_input_not_provided': True, 'limits': None, 'identity': None, 'distribution': None, 'environment_variables': {}, 'environment': None, 'resources': {'instance_count': 1}, 'queue_settings': None, 'parent_job_name': None, 'swept': False}), 'train_model': Command({'parameters': {}, 'init': False, 'name': 'train_model', 'type': 'command', 'status': None, 'log_files': None, 'description': None, 'tags': {}, 'properties': {}, 'print_as_yaml': False, 'id': None, 'Resource__source_path': '', 'base_path': '/mnt/batch/tasks/shared/LS_root/mounts/clusters/carlos-esteve/code/Users/cesteves.netmind/Etapa5', 'creation_context': None, 'serialize': <msrest.serialization.Serializer object at 0x7fa430a4e920>, 'allowed_keys': {}, 'key_restriction': False, 'logger': <Logger attr_dict (WARNING)>, 'display_name': None, 'experiment_name': None, 'compute': None, 'services': None, 'comment': None, 'job_inputs': {'input_data': '${{parent.jobs.clean_data.outputs.output_data}}', 'horizon': '${{parent.inputs.horizon}}', 'n_estimators': '${{parent.inputs.n_estimators}}'}, 'job_outputs': {'model_output': '${{parent.outputs.pipeline_job_trained_model}}', 'output_data': '${{parent.outputs.pipeline_job_output_data}}'}, 'inputs': {'input_data': <azure.ai.ml.entities._job.pipeline._io.base.NodeInput object at 0x7fa4449d64a0>, 'horizon': <azure.ai.ml.entities._job.pipeline._io.base.NodeInput object at 0x7fa4449d5a80>, 'n_estimators': <azure.ai.ml.entities._job.pipeline._io.base.NodeInput object at 0x7fa430bfcc40>}, 'outputs': {'model_output': <azure.ai.ml.entities._job.pipeline._io.base.NodeOutput object at 0x7fa430a4e290>, 'output_data': <azure.ai.ml.entities._job.pipeline._io.base.NodeOutput object at 0x7fa430bfcc70>}, 'component': 'train_rf_model_etapa_5_ces:10', 'referenced_control_flow_node_instance_id': None, 'kwargs': {'services': None}, 'instance_id': 'c4e46a8a-dd48-435e-b689-91b7b3bedc52', 'source': 'REMOTE.WORKSPACE.COMPONENT', 'validate_required_input_not_provided': True, 'limits': None, 'identity': None, 'distribution': None, 'environment_variables': {}, 'environment': None, 'resources': {'instance_count': 1}, 'queue_settings': None, 'parent_job_name': None, 'swept': False}), 'eval_model': Command({'parameters': {}, 'init': False, 'name': 'eval_model', 'type': 'command', 'status': None, 'log_files': None, 'description': None, 'tags': {}, 'properties': {}, 'print_as_yaml': False, 'id': None, 'Resource__source_path': '', 'base_path': '/mnt/batch/tasks/shared/LS_root/mounts/clusters/carlos-esteve/code/Users/cesteves.netmind/Etapa5', 'creation_context': None, 'serialize': <msrest.serialization.Serializer object at 0x7fa430bfe230>, 'allowed_keys': {}, 'key_restriction': False, 'logger': <Logger attr_dict (WARNING)>, 'display_name': None, 'experiment_name': None, 'compute': None, 'services': None, 'comment': None, 'job_inputs': {'input_data': '${{parent.jobs.train_model.outputs.output_data}}', 'model_input': '${{parent.jobs.train_model.outputs.model_output}}'}, 'job_outputs': {'metrics_output': '${{parent.outputs.pipeline_job_metrics_data}}'}, 'inputs': {'input_data': <azure.ai.ml.entities._job.pipeline._io.base.NodeInput object at 0x7fa430bfc730>, 'model_input': <azure.ai.ml.entities._job.pipeline._io.base.NodeInput object at 0x7fa430bfde40>}, 'outputs': {'metrics_output': <azure.ai.ml.entities._job.pipeline._io.base.NodeOutput object at 0x7fa430bfc5e0>}, 'component': 'eval_model_metrics_etapa_5_ces:2', 'referenced_control_flow_node_instance_id': None, 'kwargs': {'services': None}, 'instance_id': '217f2c48-06ad-4cac-a872-124046ffa8f1', 'source': 'REMOTE.WORKSPACE.COMPONENT', 'validate_required_input_not_provided': True, 'limits': None, 'identity': None, 'distribution': None, 'environment_variables': {}, 'environment': None, 'resources': {'instance_count': 1}, 'queue_settings': None, 'parent_job_name': None, 'swept': False})}, 'job_types': {'command': 3}, 'job_sources': {'REMOTE.WORKSPACE.COMPONENT': 3}, 'source_job_id': None}), 'type': 'pipeline', 'status': 'NotStarted', 'log_files': None, 'name': 'helpful_mango_jpxdvl5gff', 'description': 'Pipeline to train a failure predict model', 'tags': {}, 'properties': {'mlflow.source.git.repoURL': 'https://github.com/CarlosEsteve/Etapa5.git', 'mlflow.source.git.branch': 'main', 'mlflow.source.git.commit': 'df4b9587059c978e94a60db3056e8beec8b4dd35', 'azureml.git.dirty': 'True'}, 'print_as_yaml': False, 'id': '/subscriptions/7decb7a4-f615-4cc3-9d7d-5de10998373f/resourceGroups/naturgy/providers/Microsoft.MachineLearningServices/workspaces/naturgyml/jobs/helpful_mango_jpxdvl5gff', 'Resource__source_path': '', 'base_path': '/mnt/batch/tasks/shared/LS_root/mounts/clusters/carlos-esteve/code/Users/cesteves.netmind/Etapa5', 'creation_context': <azure.ai.ml.entities._system_data.SystemData object at 0x7fa430bfd510>, 'serialize': <msrest.serialization.Serializer object at 0x7fa430bfd1e0>, 'display_name': 'Predict_failure_pipeline', 'experiment_name': 'pipeline_predict_failure', 'compute': None, 'services': {'Tracking': {'endpoint': 'azureml://eastus2.api.azureml.ms/mlflow/v1.0/subscriptions/7decb7a4-f615-4cc3-9d7d-5de10998373f/resourceGroups/naturgy/providers/Microsoft.MachineLearningServices/workspaces/naturgyml?', 'type': 'Tracking'}, 'Studio': {'endpoint': 'https://ml.azure.com/runs/helpful_mango_jpxdvl5gff?wsid=/subscriptions/7decb7a4-f615-4cc3-9d7d-5de10998373f/resourcegroups/naturgy/workspaces/naturgyml&tid=8b85184d-f6f0-4ace-80dd-c3bda5a6c156', 'type': 'Studio'}}, 'settings': {}, 'identity': None, 'default_code': None, 'default_environment': None})"
      ]
     },
     "execution_count": 68,
     "metadata": {},
     "output_type": "execute_result"
    }
   ],
   "source": [
    "# submit job to workspace\n",
    "pipeline_job = ml_client.jobs.create_or_update(\n",
    "    pipeline_job,\n",
    "    experiment_name=\"pipeline_predict_failure\",\n",
    "    display_name=\"pipeline_predict_failure_ces\",\n",
    ")\n",
    "\n",
    "pipeline_job"
   ]
  },
  {
   "cell_type": "markdown",
   "metadata": {},
   "source": [
    "## Programar el job"
   ]
  },
  {
   "cell_type": "code",
   "execution_count": 69,
   "metadata": {},
   "outputs": [],
   "source": [
    "# from azure.ai.ml.entities import JobSchedule\n",
    "# from azure.ai.ml.entities import RecurrenceTrigger\n",
    "# from datetime import datetime\n",
    "\n",
    "\n",
    "# schedule_name = \"run_ev_five_min_predict_failure\"\n",
    "\n",
    "# recurrence_trigger = RecurrenceTrigger(\n",
    "#     frequency=\"week\",\n",
    "#     interval=1,\n",
    "#     schedule={\n",
    "#         \"week_days\": [\"Monday\"],\n",
    "#         \"hours\": [8],\n",
    "#         \"minutes\": [0]\n",
    "#     },\n",
    "#     start_time=datetime.utcnow()\n",
    "# )\n",
    "\n",
    "# job_schedule = JobSchedule(\n",
    "#     name=schedule_name,\n",
    "#     trigger=recurrence_trigger,\n",
    "#     create_job=pipeline_job\n",
    "# )\n",
    "\n",
    "# job_schedule = ml_client.schedules.begin_create_or_update(job_schedule).result()"
   ]
  },
  {
   "cell_type": "markdown",
   "metadata": {},
   "source": [
    "## Publicar Modelo"
   ]
  },
  {
   "cell_type": "code",
   "execution_count": 70,
   "metadata": {},
   "outputs": [],
   "source": [
    "# from azure.ai.ml.entities import Model\n",
    "# from azure.ai.ml.constants import AssetTypes\n",
    "\n",
    "# # Suponiendo que 'pipeline_job' es el resultado de la ejecución del pipeline\n",
    "# job_name = pipeline_job.name\n",
    "\n",
    "# run_model = Model(\n",
    "#     path=f\"azureml://jobs/{job_name}/outputs/pipeline_job_trained_model/\",\n",
    "#     name=\"predict_failure_rf_model\",\n",
    "#     description=\"Modelo Random Forest para predicción de tipo de mantenimiento.\",\n",
    "#     type=AssetTypes.MLFLOW_MODEL,\n",
    "# )\n",
    "\n",
    "# ml_client.models.create_or_update(run_model)"
   ]
  }
 ],
 "metadata": {
  "kernel_info": {
   "name": "python38-azureml"
  },
  "kernelspec": {
   "display_name": "azureml_py38",
   "language": "python",
   "name": "python3"
  },
  "language_info": {
   "codemirror_mode": {
    "name": "ipython",
    "version": 3
   },
   "file_extension": ".py",
   "mimetype": "text/x-python",
   "name": "python",
   "nbconvert_exporter": "python",
   "pygments_lexer": "ipython3",
   "version": "3.10.11"
  },
  "microsoft": {
   "host": {
    "AzureML": {
     "notebookHasBeenCompleted": true
    }
   }
  },
  "nteract": {
   "version": "nteract-front-end@1.0.0"
  }
 },
 "nbformat": 4,
 "nbformat_minor": 2
}
