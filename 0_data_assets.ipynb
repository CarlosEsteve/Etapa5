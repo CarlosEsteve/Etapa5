{
 "cells": [
  {
   "cell_type": "markdown",
   "id": "bd19d30a",
   "metadata": {},
   "source": [
    "# CARGAR DATOS"
   ]
  },
  {
   "cell_type": "code",
   "execution_count": 1,
   "id": "15fcac50",
   "metadata": {},
   "outputs": [
    {
     "name": "stdout",
     "output_type": "stream",
     "text": [
      "Name: azure-ai-ml\n",
      "Version: 1.27.0\n",
      "Summary: Microsoft Azure Machine Learning Client Library for Python\n",
      "Home-page: https://github.com/Azure/azure-sdk-for-python\n",
      "Author: Microsoft Corporation\n",
      "Author-email: azuresdkengsysadmins@microsoft.com\n",
      "License: MIT License\n",
      "Location: /anaconda/envs/azureml_py38/lib/python3.10/site-packages\n",
      "Requires: azure-common, azure-core, azure-mgmt-core, azure-monitor-opentelemetry, azure-storage-blob, azure-storage-file-datalake, azure-storage-file-share, colorama, isodate, jsonschema, marshmallow, msrest, pydash, pyjwt, pyyaml, six, strictyaml, tqdm, typing-extensions\n",
      "Required-by: \n"
     ]
    }
   ],
   "source": [
    "# mostrar info de azure-ai-ml\n",
    "! pip show azure-ai-ml"
   ]
  },
  {
   "cell_type": "markdown",
   "id": "a65d4ca8",
   "metadata": {},
   "source": [
    "## Conectar a workspace"
   ]
  },
  {
   "cell_type": "code",
   "execution_count": 2,
   "id": "e08edce8",
   "metadata": {},
   "outputs": [
    {
     "name": "stderr",
     "output_type": "stream",
     "text": [
      "Found the config file in: ./config.json\n"
     ]
    },
    {
     "name": "stdout",
     "output_type": "stream",
     "text": [
      "Conectado al Workspace: naturgyml\n"
     ]
    }
   ],
   "source": [
    "# conectar\n",
    "from azure.ai.ml import MLClient\n",
    "from azure.identity import DefaultAzureCredential\n",
    "\n",
    "ml_client = MLClient.from_config(credential=DefaultAzureCredential())\n",
    "\n",
    "print(f\"Conectado al Workspace: {ml_client.workspace_name}\")\n"
   ]
  },
  {
   "cell_type": "markdown",
   "id": "699bc30e",
   "metadata": {},
   "source": [
    "## Listar los almacenes de datos"
   ]
  },
  {
   "cell_type": "code",
   "execution_count": null,
   "id": "ff7fbc15",
   "metadata": {},
   "outputs": [],
   "source": [
    "# listar los almacenes\n",
    "stores = ml_client.datastores.list()\n",
    "\n",
    "for aS in stores:\n",
    "    print(aS.name, ':\\n', aS)"
   ]
  },
  {
   "cell_type": "markdown",
   "id": "63e686bf",
   "metadata": {},
   "source": [
    "## Crear un datastore"
   ]
  },
  {
   "cell_type": "code",
   "execution_count": null,
   "id": "f271c227",
   "metadata": {},
   "outputs": [
    {
     "data": {
      "text/plain": [
       "AzureBlobDatastore({'type': <DatastoreType.AZURE_BLOB: 'AzureBlob'>, 'name': 'etapa_5_data_assets_ces', 'description': 'Blob Storage for Etapa 5 training data', 'tags': {}, 'properties': {}, 'print_as_yaml': False, 'id': '/subscriptions/7decb7a4-f615-4cc3-9d7d-5de10998373f/resourceGroups/naturgy/providers/Microsoft.MachineLearningServices/workspaces/naturgyml/datastores/etapa_5_data_assets_ces', 'Resource__source_path': '', 'base_path': '/mnt/batch/tasks/shared/LS_root/mounts/clusters/carlos-esteve/code/Users/cesteves.netmind/Etapa5', 'creation_context': None, 'serialize': <msrest.serialization.Serializer object at 0x7fbc07dc2ef0>, 'credentials': {'type': 'account_key'}, 'container_name': 'training-data-ces-etapa-5', 'account_name': 'naturgysc2', 'endpoint': 'core.windows.net', 'protocol': 'https'})"
      ]
     },
     "execution_count": 6,
     "metadata": {},
     "output_type": "execute_result"
    }
   ],
   "source": [
    "from azure.ai.ml.entities import AzureBlobDatastore\n",
    "from azure.ai.ml.entities import AccountKeyConfiguration\n",
    "\n",
    "store = AzureBlobDatastore(\n",
    "    name=\"Etapa_5_data_assets_ces\",\n",
    "    description=\"Blob Storage for Etapa 5 training data\",\n",
    "    account_name=\"naturgysc2\",\n",
    "    container_name=\"training-data-ces-etapa-5\", \n",
    "    credentials=AccountKeyConfiguration(\n",
    "        account_key=\"XXXXXX\"\n",
    "    ),\n",
    ")\n",
    "\n",
    "ml_client.create_or_update(store)"
   ]
  },
  {
   "cell_type": "markdown",
   "id": "9e1b1878",
   "metadata": {},
   "source": [
    "Listar los almacenes de datos nuevamente para verificar que se haya creado un nuevo almacén de datos llamado `blob_training_data`:"
   ]
  },
  {
   "cell_type": "code",
   "execution_count": null,
   "id": "09ee0df1",
   "metadata": {},
   "outputs": [],
   "source": [
    "# listar los almacenes\n",
    "stores = ml_client.datastores.list()\n",
    "\n",
    "for aS in stores:\n",
    "    print(aS.name, ':\\n', aS)\n",
    "    "
   ]
  },
  {
   "cell_type": "markdown",
   "id": "3d824f41",
   "metadata": {},
   "source": [
    "## Crear URI_FILE"
   ]
  },
  {
   "cell_type": "code",
   "execution_count": 8,
   "id": "15f22f4e",
   "metadata": {},
   "outputs": [
    {
     "name": "stderr",
     "output_type": "stream",
     "text": [
      "\u001b[32mUploading merge_df.csv\u001b[32m (< 1 MB): 67.1MB [00:01, 42.3MB/s]                                                                                                                                                                                                                                                                                                                                                                                                                                                                                                                                                                                                                                                                                                                                                                                                                                                                                                                                                                              \u001b[0m\n",
      "\u001b[39m\n",
      "\n"
     ]
    },
    {
     "data": {
      "text/plain": [
       "Data({'path': 'azureml://subscriptions/7decb7a4-f615-4cc3-9d7d-5de10998373f/resourcegroups/naturgy/workspaces/naturgyml/datastores/workspaceblobstore/paths/LocalUpload/092e1f68d63cd87138ef5d9ceedc8a0c/merge_df.csv', 'skip_validation': False, 'mltable_schema_url': None, 'referenced_uris': None, 'type': 'uri_file', 'is_anonymous': False, 'auto_increment_version': False, 'auto_delete_setting': None, 'name': 'etapa_5_data_asset_ces', 'description': 'Activo de datos que apunta a un archivo local, cargado automáticamente en el almacén de datos predeterminado', 'tags': {}, 'properties': {}, 'print_as_yaml': False, 'id': '/subscriptions/7decb7a4-f615-4cc3-9d7d-5de10998373f/resourceGroups/naturgy/providers/Microsoft.MachineLearningServices/workspaces/naturgyml/data/etapa_5_data_asset_ces/versions/1', 'Resource__source_path': '', 'base_path': '/mnt/batch/tasks/shared/LS_root/mounts/clusters/carlos-esteve/code/Users/cesteves.netmind/Etapa5', 'creation_context': <azure.ai.ml.entities._system_data.SystemData object at 0x7fbbec798bb0>, 'serialize': <msrest.serialization.Serializer object at 0x7fbbdfc457e0>, 'version': '1', 'latest_version': None, 'datastore': None})"
      ]
     },
     "execution_count": 8,
     "metadata": {},
     "output_type": "execute_result"
    }
   ],
   "source": [
    "# URI_FILE\n",
    "\n",
    "from azure.ai.ml.entities import Data\n",
    "from azure.ai.ml.constants import AssetTypes\n",
    " \n",
    "my_path = '/home/azureuser/cloudfiles/code/Users/cesteves.netmind/Etapa5/output/merge_df.csv'\n",
    " \n",
    "my_data = Data(\n",
    "    path=my_path,\n",
    "    type=AssetTypes.URI_FILE,\n",
    "    description=\"Activo de datos que apunta a un archivo local, cargado automáticamente en el almacén de datos predeterminado\",\n",
    "    name=\"etapa_5_data_asset_ces\",\n",
    ")\n",
    " \n",
    "ml_client.data.create_or_update(my_data)"
   ]
  },
  {
   "cell_type": "markdown",
   "id": "aed1cc29",
   "metadata": {},
   "source": [
    "## Crear FOLDER"
   ]
  },
  {
   "cell_type": "code",
   "execution_count": 11,
   "id": "787ee966",
   "metadata": {},
   "outputs": [
    {
     "data": {
      "text/plain": [
       "Data({'path': 'azureml://subscriptions/7decb7a4-f615-4cc3-9d7d-5de10998373f/resourcegroups/naturgy/workspaces/naturgyml/datastores/Etapa_5_data_assets_ces/paths/datos/', 'skip_validation': False, 'mltable_schema_url': None, 'referenced_uris': None, 'type': 'uri_folder', 'is_anonymous': False, 'auto_increment_version': False, 'auto_delete_setting': None, 'name': 'Etapa_5-data-folder-ces', 'description': 'Activo de datos que apunta a un archivo local, cargado automáticamente en el almacén de datos predeterminado', 'tags': {}, 'properties': {}, 'print_as_yaml': False, 'id': '/subscriptions/7decb7a4-f615-4cc3-9d7d-5de10998373f/resourceGroups/naturgy/providers/Microsoft.MachineLearningServices/workspaces/naturgyml/data/Etapa_5-data-folder-ces/versions/3', 'Resource__source_path': '', 'base_path': '/mnt/batch/tasks/shared/LS_root/mounts/clusters/carlos-esteve/code/Users/cesteves.netmind/Etapa5', 'creation_context': <azure.ai.ml.entities._system_data.SystemData object at 0x7fbbec798df0>, 'serialize': <msrest.serialization.Serializer object at 0x7fbbdfe7bd90>, 'version': '3', 'latest_version': None, 'datastore': None})"
      ]
     },
     "execution_count": 11,
     "metadata": {},
     "output_type": "execute_result"
    }
   ],
   "source": [
    "# URI_FOLDER\n",
    "\n",
    "\n",
    "from azure.ai.ml.entities import Data\n",
    "from azure.ai.ml.constants import AssetTypes\n",
    " \n",
    "my_path = 'azureml://datastores/Etapa_5_data_assets_ces/paths/datos'\n",
    " \n",
    "my_data = Data(\n",
    "    path=my_path,\n",
    "    type=AssetTypes.URI_FOLDER,\n",
    "    description=\"Activo de datos que apunta a un archivo local, cargado automáticamente en el almacén de datos predeterminado\",\n",
    "    name=\"Etapa_5-data-folder-ces\"\n",
    ")\n",
    " \n",
    "ml_client.data.create_or_update(my_data)"
   ]
  },
  {
   "cell_type": "markdown",
   "id": "3c35cd13",
   "metadata": {},
   "source": [
    "## COPIA DE ASSETS"
   ]
  },
  {
   "cell_type": "code",
   "execution_count": 3,
   "id": "741ca51c",
   "metadata": {},
   "outputs": [
    {
     "name": "stderr",
     "output_type": "stream",
     "text": [
      "Class AutoDeleteSettingSchema: This is an experimental class, and may change at any time. Please see https://aka.ms/azuremlexperimental for more information.\n",
      "Class AutoDeleteConditionSchema: This is an experimental class, and may change at any time. Please see https://aka.ms/azuremlexperimental for more information.\n",
      "Class BaseAutoDeleteSettingSchema: This is an experimental class, and may change at any time. Please see https://aka.ms/azuremlexperimental for more information.\n",
      "Class IntellectualPropertySchema: This is an experimental class, and may change at any time. Please see https://aka.ms/azuremlexperimental for more information.\n",
      "Class ProtectionLevelSchema: This is an experimental class, and may change at any time. Please see https://aka.ms/azuremlexperimental for more information.\n",
      "Class BaseIntellectualPropertySchema: This is an experimental class, and may change at any time. Please see https://aka.ms/azuremlexperimental for more information.\n",
      "pathOnCompute is not a known attribute of class <class 'azure.ai.ml._restclient.v2023_04_01_preview.models._models_py3.UriFileJobOutput'> and will be ignored\n"
     ]
    },
    {
     "data": {
      "text/html": [
       "<table style=\"width:100%\"><tr><th>Experiment</th><th>Name</th><th>Type</th><th>Status</th><th>Details Page</th></tr><tr><td>Etapa5</td><td>coral_board_4cz27nkb5k</td><td>command</td><td>Starting</td><td><a href=\"https://ml.azure.com/runs/coral_board_4cz27nkb5k?wsid=/subscriptions/7decb7a4-f615-4cc3-9d7d-5de10998373f/resourcegroups/naturgy/workspaces/naturgyml&amp;tid=8b85184d-f6f0-4ace-80dd-c3bda5a6c156\" target=\"_blank\" rel=\"noopener\">Link to Azure Machine Learning studio</a></td></tr></table>"
      ],
      "text/plain": [
       "Command({'parameters': {}, 'init': False, 'name': 'coral_board_4cz27nkb5k', 'type': 'command', 'status': 'Starting', 'log_files': None, 'description': None, 'tags': {}, 'properties': {'mlflow.source.git.repoURL': 'https://github.com/CarlosEsteve/Etapa5.git', 'mlflow.source.git.branch': 'main', 'mlflow.source.git.commit': '33cbed6e98b53a2be39b2b75b592cffa7e6a1d87', 'azureml.git.dirty': 'False', '_azureml.ComputeTargetType': 'amlcdsi', '_azureml.ClusterName': 'Carlos-Esteve'}, 'print_as_yaml': False, 'id': '/subscriptions/7decb7a4-f615-4cc3-9d7d-5de10998373f/resourceGroups/naturgy/providers/Microsoft.MachineLearningServices/workspaces/naturgyml/jobs/coral_board_4cz27nkb5k', 'Resource__source_path': '', 'base_path': '/mnt/batch/tasks/shared/LS_root/mounts/clusters/carlos-esteve/code/Users/cesteves.netmind/Etapa5', 'creation_context': <azure.ai.ml.entities._system_data.SystemData object at 0x7fc8266f97e0>, 'serialize': <msrest.serialization.Serializer object at 0x7fc81059cf70>, 'allowed_keys': {}, 'key_restriction': False, 'logger': <Logger attr_dict (WARNING)>, 'display_name': 'coral_board_4cz27nkb5k', 'experiment_name': 'Etapa5', 'compute': 'Carlos-Esteve', 'services': {'Tracking': {'endpoint': 'azureml://eastus2.api.azureml.ms/mlflow/v1.0/subscriptions/7decb7a4-f615-4cc3-9d7d-5de10998373f/resourceGroups/naturgy/providers/Microsoft.MachineLearningServices/workspaces/naturgyml?', 'type': 'Tracking'}, 'Studio': {'endpoint': 'https://ml.azure.com/runs/coral_board_4cz27nkb5k?wsid=/subscriptions/7decb7a4-f615-4cc3-9d7d-5de10998373f/resourcegroups/naturgy/workspaces/naturgyml&tid=8b85184d-f6f0-4ace-80dd-c3bda5a6c156', 'type': 'Studio'}}, 'comment': None, 'job_inputs': {'input_data': {'type': 'uri_file', 'path': 'etapa_5_data_asset_ces:1', 'mode': 'ro_mount'}}, 'job_outputs': {'output_data': {'type': 'uri_file', 'name': 'merge_df_asset', 'path': 'azureml://datastores/Etapa_5_data_assets_ces/paths/datos/merge_df.csv', 'mode': 'rw_mount'}, 'default': {'type': 'uri_folder', 'path': 'azureml://datastores/workspaceartifactstore/ExperimentRun/dcid.coral_board_4cz27nkb5k', 'mode': 'rw_mount'}}, 'inputs': {'input_data': <azure.ai.ml.entities._job.pipeline._io.base.NodeInput object at 0x7fc81059e7a0>}, 'outputs': {'output_data': <azure.ai.ml.entities._job.pipeline._io.base.NodeOutput object at 0x7fc81059c970>, 'default': <azure.ai.ml.entities._job.pipeline._io.base.NodeOutput object at 0x7fc81059d480>}, 'component': CommandComponent({'latest_version': None, 'intellectual_property': None, 'auto_increment_version': True, 'source': 'REMOTE.WORKSPACE.JOB', 'is_anonymous': False, 'auto_delete_setting': None, 'name': 'coral_board_4cz27nkb5k', 'description': None, 'tags': {}, 'properties': {}, 'print_as_yaml': False, 'id': None, 'Resource__source_path': None, 'base_path': '/mnt/batch/tasks/shared/LS_root/mounts/clusters/carlos-esteve/code/Users/cesteves.netmind/Etapa5', 'creation_context': <azure.ai.ml.entities._system_data.SystemData object at 0x7fc8266f97e0>, 'serialize': <msrest.serialization.Serializer object at 0x7fc8265f4760>, 'command': 'cp ${{inputs.input_data}} ${{outputs.output_data}}', 'code': None, 'environment_variables': {}, 'environment': 'azureml://registries/azureml/environments/sklearn-1.1/versions/4', 'distribution': None, 'resources': None, 'queue_settings': None, 'version': None, 'schema': None, 'type': 'command', 'display_name': 'coral_board_4cz27nkb5k', 'is_deterministic': True, 'inputs': {'input_data': {'type': 'uri_file', 'path': '/subscriptions/7decb7a4-f615-4cc3-9d7d-5de10998373f/resourceGroups/naturgy/providers/Microsoft.MachineLearningServices/workspaces/naturgyml/data/etapa_5_data_asset_ces/versions/1', 'mode': 'ro_mount'}}, 'outputs': {'output_data': {'type': 'uri_file', 'name': 'merge_df_asset', 'path': 'azureml://datastores/Etapa_5_data_assets_ces/paths/datos/merge_df.csv', 'mode': 'rw_mount'}, 'default': {'type': 'uri_folder', 'path': 'azureml://datastores/workspaceartifactstore/ExperimentRun/dcid.coral_board_4cz27nkb5k', 'mode': 'rw_mount'}}, 'yaml_str': None, 'other_parameter': {'status': 'Starting', 'parameters': {}}, 'additional_includes': []}), 'referenced_control_flow_node_instance_id': None, 'kwargs': {'services': {'Tracking': {'endpoint': 'azureml://eastus2.api.azureml.ms/mlflow/v1.0/subscriptions/7decb7a4-f615-4cc3-9d7d-5de10998373f/resourceGroups/naturgy/providers/Microsoft.MachineLearningServices/workspaces/naturgyml?', 'type': 'Tracking'}, 'Studio': {'endpoint': 'https://ml.azure.com/runs/coral_board_4cz27nkb5k?wsid=/subscriptions/7decb7a4-f615-4cc3-9d7d-5de10998373f/resourcegroups/naturgy/workspaces/naturgyml&tid=8b85184d-f6f0-4ace-80dd-c3bda5a6c156', 'type': 'Studio'}}, 'status': 'Starting', 'creation_context': <azure.ai.ml.entities._system_data.SystemData object at 0x7fc8266f97e0>}, 'instance_id': '13355fdb-1827-406b-ac16-9f6583095554', 'source': 'BUILDER', 'validate_required_input_not_provided': True, 'limits': None, 'identity': None, 'distribution': None, 'environment_variables': {}, 'environment': 'azureml://registries/azureml/environments/sklearn-1.1/versions/4', 'resources': {'instance_count': 1, 'shm_size': '2g'}, 'queue_settings': {'job_tier': 'null'}, 'parent_job_name': None, 'swept': False})"
      ]
     },
     "execution_count": 3,
     "metadata": {},
     "output_type": "execute_result"
    }
   ],
   "source": [
    "from azure.ai.ml import command, Input, Output, MLClient\n",
    "from azure.ai.ml.constants import AssetTypes, InputOutputModes\n",
    "from azure.identity import DefaultAzureCredential\n",
    "\n",
    "\n",
    "input_path = \"azureml:etapa_5_data_asset_ces:1\"\n",
    "output_path = \"azureml://datastores/Etapa_5_data_assets_ces/paths/datos/merge_df.csv\"\n",
    "\n",
    "data_type = AssetTypes.URI_FILE\n",
    "\n",
    "input_mode = InputOutputModes.RO_MOUNT\n",
    "\n",
    "output_mode = InputOutputModes.RW_MOUNT\n",
    "\n",
    "# Set the input and output for the job:\n",
    "inputs = {\n",
    "    \"input_data\": Input(type=data_type, path=input_path, mode=input_mode)\n",
    "}\n",
    "\n",
    "outputs = {\n",
    "    \"output_data\": Output(type=data_type, \n",
    "                          path=output_path, \n",
    "                          mode=output_mode,\n",
    "                          name = \"merge_df_asset\"\n",
    "                  )\n",
    "}\n",
    "\n",
    "# This command job copies the data to your default Datastore\n",
    "job = command(\n",
    "    command=\"cp ${{inputs.input_data}} ${{outputs.output_data}}\",\n",
    "    inputs=inputs,\n",
    "    outputs=outputs,\n",
    "    environment=\"azureml://registries/azureml/environments/sklearn-1.1/versions/4\",\n",
    "    compute=\"Carlos-Esteve\",  # Replace with the correct compute target name\n",
    ")\n",
    "\n",
    "# Submit the command\n",
    "ml_client.jobs.create_or_update(job)"
   ]
  }
 ],
 "metadata": {
  "kernelspec": {
   "display_name": "azureml_py38",
   "language": "python",
   "name": "python3"
  },
  "language_info": {
   "codemirror_mode": {
    "name": "ipython",
    "version": 3
   },
   "file_extension": ".py",
   "mimetype": "text/x-python",
   "name": "python",
   "nbconvert_exporter": "python",
   "pygments_lexer": "ipython3",
   "version": "3.10.11"
  }
 },
 "nbformat": 4,
 "nbformat_minor": 5
}
